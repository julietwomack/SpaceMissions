{
 "cells": [
  {
   "cell_type": "markdown",
   "metadata": {},
   "source": [
    "# Exploratory Analysis for All Space Missions from 1957\n",
    "\n",
    "This notebook is an exploratory analysis on the Kaggle dataset, \"[All Space Missions from 1957](https://www.kaggle.com/agirlcoding/all-space-missions-from-1957),\" using Python.\n",
    "\n",
    "## Analysis Questions\n",
    "\n",
    "The analysis intends to answer the following questions:\n",
    "\n",
    "**Company**\n",
    "   - How many companies have launched space missions?\n",
    "   - Which companies have launched the most space missions (top 5)?\n",
    "   - For the top 5 companies with the most space missions, how do their missions fare in regard to success or failure?\n",
    "\n",
    "**Location**\n",
    "  - Which country has launched the most space missions since 1957?\n",
    "  - In the United States specifically, which states have launched the most space missions?\n",
    "\n",
    "**Date**\n",
    "  - Which years had the most space missions (top 10)?\n",
    "  - What month and year did the most space missions occur (top 10)?\n",
    "\n",
    "**Space Mission Cost**\n",
    "  - Which company has the most expensive space mission, on average?\n",
    "\n",
    "**Rocket**\n",
    "  - Which countries still have active rockets?\n",
    "  - Are there any countries that do not have any active rockets?\n",
    "  \n",
    "## Initial Setup\n",
    "\n",
    "The analysis utilizing the following libraries:\n",
    "- Numpy\n",
    "- Pandas\n",
    "- Matplotlib\n",
    "- Seaborn\n",
    "- Plotly\n",
    "\n",
    "The CSV file is read in as a dataframe called **sm** and two columns, \"Unnamed: 0\" and \"Unnamed: 0.1\" are dropped from the dataframe."
   ]
  },
  {
   "cell_type": "code",
   "execution_count": 2,
   "metadata": {},
   "outputs": [
    {
     "data": {
      "text/html": [
       "        <script type=\"text/javascript\">\n",
       "        window.PlotlyConfig = {MathJaxConfig: 'local'};\n",
       "        if (window.MathJax) {MathJax.Hub.Config({SVG: {font: \"STIX-Web\"}});}\n",
       "        if (typeof require !== 'undefined') {\n",
       "        require.undef(\"plotly\");\n",
       "        requirejs.config({\n",
       "            paths: {\n",
       "                'plotly': ['https://cdn.plot.ly/plotly-latest.min']\n",
       "            }\n",
       "        });\n",
       "        require(['plotly'], function(Plotly) {\n",
       "            window._Plotly = Plotly;\n",
       "        });\n",
       "        }\n",
       "        </script>\n",
       "        "
      ]
     },
     "metadata": {},
     "output_type": "display_data"
    }
   ],
   "source": [
    "# Importing libraries\n",
    "import pandas as pd\n",
    "\n",
    "import matplotlib.pyplot as plt\n",
    "%matplotlib inline\n",
    "\n",
    "import seaborn as sns\n",
    "\n",
    "import numpy as np\n",
    "\n",
    "import chart_studio.plotly as py\n",
    "import plotly.graph_objs as go \n",
    "from plotly.offline import download_plotlyjs, init_notebook_mode, plot, iplot\n",
    "init_notebook_mode(connected=True) \n",
    "\n",
    "from tabulate import tabulate as tab"
   ]
  },
  {
   "cell_type": "code",
   "execution_count": 3,
   "metadata": {},
   "outputs": [],
   "source": [
    "# read in csv as a dataframe\n",
    "sm = pd.read_csv('Space_Corrected.csv')\n",
    "\n",
    "# dropping the unnamed columns\n",
    "sm.drop(['Unnamed: 0', 'Unnamed: 0.1'], axis = 1, inplace = True)"
   ]
  },
  {
   "cell_type": "markdown",
   "metadata": {},
   "source": [
    "## Preliminary Dataframe Info\n",
    "\n",
    "Obtaining the column names from the dataframe.\n",
    "\n",
    "|Column Name   |Description   |\n",
    "|:-------------|:-------------|\n",
    "|Company Name   |Name of the company that deployed the space mission.   |\n",
    "|Location   |Where the space mission launched from.   |\n",
    "|Datum   |Date and time of launch.   |\n",
    "|Detail   |Name of the rocket from the mission.   |\n",
    "|Status Rocket   |Indicates whether the rocket is still active or retired.   |\n",
    "|Rocket   |Cost of the mission in millions USD.   |\n",
    "|Status Mission   |Indicates the result of the mission.   |"
   ]
  },
  {
   "cell_type": "code",
   "execution_count": 4,
   "metadata": {},
   "outputs": [
    {
     "name": "stdout",
     "output_type": "stream",
     "text": [
      "<class 'pandas.core.frame.DataFrame'>\n",
      "RangeIndex: 4324 entries, 0 to 4323\n",
      "Data columns (total 7 columns):\n",
      " #   Column          Non-Null Count  Dtype \n",
      "---  ------          --------------  ----- \n",
      " 0   Company Name    4324 non-null   object\n",
      " 1   Location        4324 non-null   object\n",
      " 2   Datum           4324 non-null   object\n",
      " 3   Detail          4324 non-null   object\n",
      " 4   Status Rocket   4324 non-null   object\n",
      " 5    Rocket         964 non-null    object\n",
      " 6   Status Mission  4324 non-null   object\n",
      "dtypes: object(7)\n",
      "memory usage: 236.6+ KB\n"
     ]
    },
    {
     "data": {
      "text/plain": [
       "Index(['Company Name', 'Location', 'Datum', 'Detail', 'Status Rocket',\n",
       "       ' Rocket', 'Status Mission'],\n",
       "      dtype='object')"
      ]
     },
     "execution_count": 4,
     "metadata": {},
     "output_type": "execute_result"
    }
   ],
   "source": [
    "# getting general information about the csv file\n",
    "sm.info()\n",
    "sm.columns"
   ]
  },
  {
   "cell_type": "markdown",
   "metadata": {},
   "source": [
    "## Analysis on Companies\n",
    "\n",
    "The following analysis intends to answer these questions:\n",
    "\n",
    "   - How many companies have launched space missions since 1957?\n",
    "   - Which companies have launched the most space missions since 1957 (top 5)?\n",
    "   - For the 5 companies from the previous question, how many missions have been successful? Failed?\n",
    "   \n",
    "### How many companies have launched space missions since 1957?\n",
    "\n",
    "There have been 56 companies who have launched space missions since 1957."
   ]
  },
  {
   "cell_type": "code",
   "execution_count": 5,
   "metadata": {
    "scrolled": true
   },
   "outputs": [
    {
     "data": {
      "text/plain": [
       "56"
      ]
     },
     "execution_count": 5,
     "metadata": {},
     "output_type": "execute_result"
    }
   ],
   "source": [
    "sm['Company Name'].nunique()"
   ]
  },
  {
   "cell_type": "markdown",
   "metadata": {},
   "source": [
    "### Which companies have launched the most space missions since 1957 (top 5)?\n",
    "The [RVSN USSR](https://en.wikipedia.org/wiki/Strategic_Rocket_Forces), [Arianespace](https://www.arianespace.com/), [CASC](http://www.casic.com/), [General Dynamics](https://www.gd.com/), and [NASA](https://www.nasa.gov/) are the 5 companies who have launched the most space missions since 1957 with RVSN USSR launching over 1,500!"
   ]
  },
  {
   "cell_type": "code",
   "execution_count": 6,
   "metadata": {},
   "outputs": [
    {
     "name": "stdout",
     "output_type": "stream",
     "text": [
      "╒══════════════════╤═════════╕\n",
      "│ Company Name     │   Count │\n",
      "╞══════════════════╪═════════╡\n",
      "│ RVSN USSR        │    1777 │\n",
      "├──────────────────┼─────────┤\n",
      "│ Arianespace      │     279 │\n",
      "├──────────────────┼─────────┤\n",
      "│ CASC             │     251 │\n",
      "├──────────────────┼─────────┤\n",
      "│ General Dynamics │     251 │\n",
      "├──────────────────┼─────────┤\n",
      "│ NASA             │     203 │\n",
      "╘══════════════════╧═════════╛\n"
     ]
    }
   ],
   "source": [
    "table1 = pd.DataFrame(sm['Company Name'].value_counts().head())\n",
    "print(tab(table1, headers = ['Company Name', 'Count'], tablefmt='fancy_grid'))"
   ]
  },
  {
   "cell_type": "code",
   "execution_count": 7,
   "metadata": {
    "scrolled": true
   },
   "outputs": [
    {
     "data": {
      "image/png": "[encoded data removed]",
      "text/plain": [
       "<Figure size 700x350 with 1 Axes>"
      ]
     },
     "metadata": {
      "needs_background": "light"
     },
     "output_type": "display_data"
    }
   ],
   "source": [
    "# figure size\n",
    "plt.figure(figsize=(10,5), dpi = 70)\n",
    "\n",
    "# generating plot\n",
    "sm['Company Name'].value_counts().head().plot(kind = 'bar', color = '#a7bbc7')\n",
    "\n",
    "# plot aesthetics (titles, labels, etc.)\n",
    "plt.title('Companies Who Have Launched The Most Space Missions Since 1957 (Top 5)', size = 14, pad = 15)\n",
    "\n",
    "plt.tick_params(axis = 'both', pad = 5)\n",
    "plt.xlabel('Company', labelpad = 15, size = 12)\n",
    "plt.xticks(rotation = 360)\n",
    "\n",
    "plt.ylabel('Count', labelpad = 15, size = 12)\n",
    "\n",
    "plt.tight_layout()\n",
    "plt.savefig('Figures/most-missions.jpg', dpi = 300, transparent = False)\n",
    "plt.show()"
   ]
  },
  {
   "cell_type": "markdown",
   "metadata": {},
   "source": [
    "### For the 5 companies with the most launched space missions, how many of those missions have succeeded or failed?\n",
    "\n",
    "- The company with the **most successful** space missions is RVSN USSR (1,614 successful missions)\n",
    "- The company with the **least successful** space missions is NASA (186 successful missions)\n",
    "- The company with the **most failed** space missions is RVSN USSR (121 failed missions)\n",
    "- The company with the **least faile** space missions is Arianespace (7 failed missions)"
   ]
  },
  {
   "cell_type": "code",
   "execution_count": 282,
   "metadata": {},
   "outputs": [],
   "source": [
    "# creating a new dataframe with only the top 5 companiess\n",
    "top_5 = ['RVSN USSR', 'Arianespace', 'General Dynamics', 'CASC', 'NASA']\n",
    "top_5_filter = sm['Company Name'].isin(top_5)\n",
    "sm5 = pd.DataFrame(sm[top_5_filter])"
   ]
  },
  {
   "cell_type": "code",
   "execution_count": 283,
   "metadata": {},
   "outputs": [],
   "source": [
    "# success vs failure for top 5 companies\n",
    "table2 = sm5.groupby(['Company Name','Status Mission'])['Company Name'].count().reset_index(name='Count')"
   ]
  },
  {
   "cell_type": "code",
   "execution_count": 299,
   "metadata": {
    "scrolled": true
   },
   "outputs": [
    {
     "name": "stdout",
     "output_type": "stream",
     "text": [
      "╒══════════════════╤═══════════╤═══════════════════╤═════════════════════╤═══════════╕\n",
      "│ Company Name     │   Failure │   Partial Failure │   Prelaunch Failure │   Success │\n",
      "╞══════════════════╪═══════════╪═══════════════════╪═════════════════════╪═══════════╡\n",
      "│ Arianespace      │         7 │                 3 │                   0 │       269 │\n",
      "├──────────────────┼───────────┼───────────────────┼─────────────────────┼───────────┤\n",
      "│ CASC             │        14 │                 6 │                   0 │       231 │\n",
      "├──────────────────┼───────────┼───────────────────┼─────────────────────┼───────────┤\n",
      "│ General Dynamics │        37 │                11 │                   0 │       203 │\n",
      "├──────────────────┼───────────┼───────────────────┼─────────────────────┼───────────┤\n",
      "│ NASA             │        11 │                 6 │                   0 │       186 │\n",
      "├──────────────────┼───────────┼───────────────────┼─────────────────────┼───────────┤\n",
      "│ RVSN USSR        │       121 │                41 │                   1 │      1614 │\n",
      "╘══════════════════╧═══════════╧═══════════════════╧═════════════════════╧═══════════╛\n"
     ]
    }
   ],
   "source": [
    "print(tab(pd.pivot_table(data = sm5, index = ['Company Name'], \n",
    "                        columns = ['Status Mission'], \n",
    "                        values = 'Count', aggfunc = 'count', fill_value=0), \n",
    "          tablefmt=\"fancy_grid\", headers = ['Company Name', 'Failure', 'Partial Failure', 'Prelaunch Failure', 'Success']))"
   ]
  },
  {
   "cell_type": "code",
   "execution_count": 301,
   "metadata": {},
   "outputs": [
    {
     "data": {
      "image/png": "[encoded data removed]",
      "text/plain": [
       "<Figure size 750x375 with 1 Axes>"
      ]
     },
     "metadata": {
      "needs_background": "light"
     },
     "output_type": "display_data"
    }
   ],
   "source": [
    "plt.figure(figsize = (10,5), dpi = 75)\n",
    "\n",
    "sns.countplot(x = 'Company Name', data = sm5, hue = 'Status Mission', palette = 'BuPu')\n",
    "\n",
    "plt.title('Top 5 Companies by Successes and Failures', size = 14, pad = 15)\n",
    "plt.ylabel('Count', labelpad = 15, size = 12)\n",
    "plt.xlabel('Company', labelpad = 15, size = 12)\n",
    "plt.legend(bbox_to_anchor = (1.01,1.01))\n",
    "\n",
    "plt.tight_layout()\n",
    "plt.savefig('Figures/top-5-success-failures.jpg', dpi = 300, transparent = False)\n",
    "plt.show()"
   ]
  },
  {
   "cell_type": "markdown",
   "metadata": {},
   "source": [
    "# Analysis on Location"
   ]
  },
  {
   "cell_type": "code",
   "execution_count": 138,
   "metadata": {},
   "outputs": [],
   "source": [
    "# Finding unique locations\n",
    "sm['Location'].unique()\n",
    "\n",
    "# countries\n",
    "countries = ['USA', 'China', 'Kazakhstan', \n",
    "             'Japan', 'New Zealand', 'Israel', \n",
    "             'Russia', 'France', 'India', 'North Korea', \n",
    "             'Brazil','Australia', 'Kenya', 'Iran', \n",
    "             'Other (Sea)', 'South Korea', 'Spain']\n",
    "\n",
    "# conditions\n",
    "conditions = [(sm['Location'].str.contains('USA')) | \n",
    "              sm['Location'].str.contains('New Mexico') | \n",
    "              sm['Location'].str.contains('LP-41, Kauai'),\n",
    "                 (sm['Location'].str.contains('China')) | \n",
    "              (sm['Location'].str.contains('Tai Rui Barge, Yellow Sea')),\n",
    "                 (sm['Location'].str.contains('Kazakhstan')),\n",
    "                 (sm['Location'].str.contains('Japan')),\n",
    "                 (sm['Location'].str.contains('New Zealand')),\n",
    "                 (sm['Location'].str.contains('Israel')),\n",
    "                 (sm['Location'].str.contains('Russia')),\n",
    "                 (sm['Location'].str.contains('France')),\n",
    "                 (sm['Location'].str.contains('India')),\n",
    "                 (sm['Location'].str.contains('North Korea')),\n",
    "                 (sm['Location'].str.contains('Brazil')),\n",
    "                 (sm['Location'].str.contains('Australia')),\n",
    "                 (sm['Location'].str.contains('Kenya')), \n",
    "              (sm['Location'].str.contains('Shahrud Missile Test Site')) |  \n",
    "              (sm['Location'].str.contains('Imam Khomeini Spaceport')),\n",
    "             (sm['Location'].str.contains('Kiritimati Launch Area')) | \n",
    "              (sm['Location'].str.contains(' Barents Sea Launch Area')),\n",
    "             (sm['Location'].str.contains('South Korea')),\n",
    "             (sm['Location'].str.contains('Stargazer, Base Aerea de'))]\n",
    "\n",
    "# generating new column\n",
    "sm['Country'] = np.select(conditions, countries, default = 'NA')"
   ]
  },
  {
   "cell_type": "code",
   "execution_count": 139,
   "metadata": {},
   "outputs": [
    {
     "data": {
      "text/plain": [
       "Country\n",
       "Russia         1395\n",
       "USA            1349\n",
       "Kazakhstan      701\n",
       "France          303\n",
       "China           269\n",
       "Japan           126\n",
       "India            76\n",
       "Other (Sea)      39\n",
       "Iran             14\n",
       "New Zealand      13\n",
       "Israel           11\n",
       "Kenya             9\n",
       "Australia         6\n",
       "North Korea       5\n",
       "South Korea       3\n",
       "Brazil            3\n",
       "Spain             2\n",
       "Name: Country, dtype: int64"
      ]
     },
     "execution_count": 139,
     "metadata": {},
     "output_type": "execute_result"
    }
   ],
   "source": [
    "# which country has launched the most space missions since 1957?\n",
    "sm.groupby('Country')['Country'].count().sort_values(ascending = False)"
   ]
  },
  {
   "cell_type": "code",
   "execution_count": 140,
   "metadata": {},
   "outputs": [
    {
     "data": {
      "text/plain": [
       "<AxesSubplot:xlabel='Country'>"
      ]
     },
     "execution_count": 140,
     "metadata": {},
     "output_type": "execute_result"
    },
    {
     "data": {
      "image/png": "[encoded data removed]",
      "text/plain": [
       "<Figure size 750x375 with 1 Axes>"
      ]
     },
     "metadata": {
      "needs_background": "light"
     },
     "output_type": "display_data"
    }
   ],
   "source": [
    "# creating bar plot\n",
    "plt.figure(figsize = (10, 5), dpi = 75)\n",
    "sm.groupby('Country')['Country'].count().sort_values(ascending = False).plot(kind = 'bar', color = '#a7bbc7' )"
   ]
  },
  {
   "cell_type": "code",
   "execution_count": 141,
   "metadata": {},
   "outputs": [],
   "source": [
    "# Targeting the USA, now making a new column called 'USA State'\n",
    "\n",
    "# start by creating a new dataframe just with USA\n",
    "usa_sm = pd.DataFrame(data = sm[sm['Country'] == 'USA'])\n",
    "usa_sm.reset_index(inplace = True)\n",
    "\n",
    "# find the unique States in the USA\n",
    "usa_sm['Location'].unique()\n",
    "\n",
    "# creation of new 'USA State' column\n",
    "states = ['Florida', 'Texas', 'California', 'Hawaii', 'Alaska', 'Virginia', 'New Mexico', 'Marshall Islands']\n",
    "\n",
    "state_cond = [(usa_sm['Location'].str.contains('Florida')),\n",
    "              (usa_sm['Location'].str.contains('Texas')),\n",
    "              (usa_sm['Location'].str.contains('California')),\n",
    "              (usa_sm['Location'].str.contains('LP-41, Kauai')),\n",
    "              (usa_sm['Location'].str.contains('Alaska')),\n",
    "              (usa_sm['Location'].str.contains('Virginia')),\n",
    "             (usa_sm['Location'].str.contains('Vertical Launch Area')),\n",
    "             (usa_sm['Location'].str.contains('Ronald Reagan Ballistic'))]\n",
    "\n",
    "usa_sm['USA State'] = np.select(state_cond, states, default = 'NA')"
   ]
  },
  {
   "cell_type": "code",
   "execution_count": 142,
   "metadata": {},
   "outputs": [
    {
     "data": {
      "text/plain": [
       "USA State\n",
       "Alaska                3\n",
       "California          454\n",
       "Florida             834\n",
       "Hawaii                1\n",
       "Marshall Islands      9\n",
       "New Mexico            4\n",
       "Texas                13\n",
       "Virginia             31\n",
       "Name: USA State, dtype: int64"
      ]
     },
     "execution_count": 142,
     "metadata": {},
     "output_type": "execute_result"
    }
   ],
   "source": [
    "usa_sm.groupby('USA State')['USA State'].count()"
   ]
  },
  {
   "cell_type": "code",
   "execution_count": 143,
   "metadata": {},
   "outputs": [
    {
     "data": {
      "application/vnd.plotly.v1+json": {
       "config": {
        "linkText": "Export to plot.ly",
        "plotlyServerURL": "https://plot.ly",
        "showLink": false
       },
       "data": [
        {
         "colorbar": {
          "title": {
           "text": "Count"
          }
         },
         "colorscale": [
          [
           0,
           "rgb(255,247,251)"
          ],
          [
           0.125,
           "rgb(236,231,242)"
          ],
          [
           0.25,
           "rgb(208,209,230)"
          ],
          [
           0.375,
           "rgb(166,189,219)"
          ],
          [
           0.5,
           "rgb(116,169,207)"
          ],
          [
           0.625,
           "rgb(54,144,192)"
          ],
          [
           0.75,
           "rgb(5,112,176)"
          ],
          [
           0.875,
           "rgb(4,90,141)"
          ],
          [
           1,
           "rgb(2,56,88)"
          ]
         ],
         "locationmode": "USA-states",
         "locations": [
          "FL",
          "TX",
          "CA",
          "HI",
          "AK",
          "VI",
          "NM"
         ],
         "text": [
          "Florida",
          "Texas",
          "California",
          "Hawaii",
          "Alaska",
          "Virginia"
         ],
         "type": "choropleth",
         "z": [
          3,
          454,
          834,
          1,
          9,
          4,
          13,
          31
         ]
        }
       ],
       "layout": {
        "geo": {
         "scope": "usa"
        },
        "template": {
         "data": {
          "bar": [
           {
            "error_x": {
             "color": "#2a3f5f"
            },
            "error_y": {
             "color": "#2a3f5f"
            },
            "marker": {
             "line": {
              "color": "#E5ECF6",
              "width": 0.5
             }
            },
            "type": "bar"
           }
          ],
          "barpolar": [
           {
            "marker": {
             "line": {
              "color": "#E5ECF6",
              "width": 0.5
             }
            },
            "type": "barpolar"
           }
          ],
          "carpet": [
           {
            "aaxis": {
             "endlinecolor": "#2a3f5f",
             "gridcolor": "white",
             "linecolor": "white",
             "minorgridcolor": "white",
             "startlinecolor": "#2a3f5f"
            },
            "baxis": {
             "endlinecolor": "#2a3f5f",
             "gridcolor": "white",
             "linecolor": "white",
             "minorgridcolor": "white",
             "startlinecolor": "#2a3f5f"
            },
            "type": "carpet"
           }
          ],
          "choropleth": [
           {
            "colorbar": {
             "outlinewidth": 0,
             "ticks": ""
            },
            "type": "choropleth"
           }
          ],
          "contour": [
           {
            "colorbar": {
             "outlinewidth": 0,
             "ticks": ""
            },
            "colorscale": [
             [
              0,
              "#0d0887"
             ],
             [
              0.1111111111111111,
              "#46039f"
             ],
             [
              0.2222222222222222,
              "#7201a8"
             ],
             [
              0.3333333333333333,
              "#9c179e"
             ],
             [
              0.4444444444444444,
              "#bd3786"
             ],
             [
              0.5555555555555556,
              "#d8576b"
             ],
             [
              0.6666666666666666,
              "#ed7953"
             ],
             [
              0.7777777777777778,
              "#fb9f3a"
             ],
             [
              0.8888888888888888,
              "#fdca26"
             ],
             [
              1,
              "#f0f921"
             ]
            ],
            "type": "contour"
           }
          ],
          "contourcarpet": [
           {
            "colorbar": {
             "outlinewidth": 0,
             "ticks": ""
            },
            "type": "contourcarpet"
           }
          ],
          "heatmap": [
           {
            "colorbar": {
             "outlinewidth": 0,
             "ticks": ""
            },
            "colorscale": [
             [
              0,
              "#0d0887"
             ],
             [
              0.1111111111111111,
              "#46039f"
             ],
             [
              0.2222222222222222,
              "#7201a8"
             ],
             [
              0.3333333333333333,
              "#9c179e"
             ],
             [
              0.4444444444444444,
              "#bd3786"
             ],
             [
              0.5555555555555556,
              "#d8576b"
             ],
             [
              0.6666666666666666,
              "#ed7953"
             ],
             [
              0.7777777777777778,
              "#fb9f3a"
             ],
             [
              0.8888888888888888,
              "#fdca26"
             ],
             [
              1,
              "#f0f921"
             ]
            ],
            "type": "heatmap"
           }
          ],
          "heatmapgl": [
           {
            "colorbar": {
             "outlinewidth": 0,
             "ticks": ""
            },
            "colorscale": [
             [
              0,
              "#0d0887"
             ],
             [
              0.1111111111111111,
              "#46039f"
             ],
             [
              0.2222222222222222,
              "#7201a8"
             ],
             [
              0.3333333333333333,
              "#9c179e"
             ],
             [
              0.4444444444444444,
              "#bd3786"
             ],
             [
              0.5555555555555556,
              "#d8576b"
             ],
             [
              0.6666666666666666,
              "#ed7953"
             ],
             [
              0.7777777777777778,
              "#fb9f3a"
             ],
             [
              0.8888888888888888,
              "#fdca26"
             ],
             [
              1,
              "#f0f921"
             ]
            ],
            "type": "heatmapgl"
           }
          ],
          "histogram": [
           {
            "marker": {
             "colorbar": {
              "outlinewidth": 0,
              "ticks": ""
             }
            },
            "type": "histogram"
           }
          ],
          "histogram2d": [
           {
            "colorbar": {
             "outlinewidth": 0,
             "ticks": ""
            },
            "colorscale": [
             [
              0,
              "#0d0887"
             ],
             [
              0.1111111111111111,
              "#46039f"
             ],
             [
              0.2222222222222222,
              "#7201a8"
             ],
             [
              0.3333333333333333,
              "#9c179e"
             ],
             [
              0.4444444444444444,
              "#bd3786"
             ],
             [
              0.5555555555555556,
              "#d8576b"
             ],
             [
              0.6666666666666666,
              "#ed7953"
             ],
             [
              0.7777777777777778,
              "#fb9f3a"
             ],
             [
              0.8888888888888888,
              "#fdca26"
             ],
             [
              1,
              "#f0f921"
             ]
            ],
            "type": "histogram2d"
           }
          ],
          "histogram2dcontour": [
           {
            "colorbar": {
             "outlinewidth": 0,
             "ticks": ""
            },
            "colorscale": [
             [
              0,
              "#0d0887"
             ],
             [
              0.1111111111111111,
              "#46039f"
             ],
             [
              0.2222222222222222,
              "#7201a8"
             ],
             [
              0.3333333333333333,
              "#9c179e"
             ],
             [
              0.4444444444444444,
              "#bd3786"
             ],
             [
              0.5555555555555556,
              "#d8576b"
             ],
             [
              0.6666666666666666,
              "#ed7953"
             ],
             [
              0.7777777777777778,
              "#fb9f3a"
             ],
             [
              0.8888888888888888,
              "#fdca26"
             ],
             [
              1,
              "#f0f921"
             ]
            ],
            "type": "histogram2dcontour"
           }
          ],
          "mesh3d": [
           {
            "colorbar": {
             "outlinewidth": 0,
             "ticks": ""
            },
            "type": "mesh3d"
           }
          ],
          "parcoords": [
           {
            "line": {
             "colorbar": {
              "outlinewidth": 0,
              "ticks": ""
             }
            },
            "type": "parcoords"
           }
          ],
          "pie": [
           {
            "automargin": true,
            "type": "pie"
           }
          ],
          "scatter": [
           {
            "marker": {
             "colorbar": {
              "outlinewidth": 0,
              "ticks": ""
             }
            },
            "type": "scatter"
           }
          ],
          "scatter3d": [
           {
            "line": {
             "colorbar": {
              "outlinewidth": 0,
              "ticks": ""
             }
            },
            "marker": {
             "colorbar": {
              "outlinewidth": 0,
              "ticks": ""
             }
            },
            "type": "scatter3d"
           }
          ],
          "scattercarpet": [
           {
            "marker": {
             "colorbar": {
              "outlinewidth": 0,
              "ticks": ""
             }
            },
            "type": "scattercarpet"
           }
          ],
          "scattergeo": [
           {
            "marker": {
             "colorbar": {
              "outlinewidth": 0,
              "ticks": ""
             }
            },
            "type": "scattergeo"
           }
          ],
          "scattergl": [
           {
            "marker": {
             "colorbar": {
              "outlinewidth": 0,
              "ticks": ""
             }
            },
            "type": "scattergl"
           }
          ],
          "scattermapbox": [
           {
            "marker": {
             "colorbar": {
              "outlinewidth": 0,
              "ticks": ""
             }
            },
            "type": "scattermapbox"
           }
          ],
          "scatterpolar": [
           {
            "marker": {
             "colorbar": {
              "outlinewidth": 0,
              "ticks": ""
             }
            },
            "type": "scatterpolar"
           }
          ],
          "scatterpolargl": [
           {
            "marker": {
             "colorbar": {
              "outlinewidth": 0,
              "ticks": ""
             }
            },
            "type": "scatterpolargl"
           }
          ],
          "scatterternary": [
           {
            "marker": {
             "colorbar": {
              "outlinewidth": 0,
              "ticks": ""
             }
            },
            "type": "scatterternary"
           }
          ],
          "surface": [
           {
            "colorbar": {
             "outlinewidth": 0,
             "ticks": ""
            },
            "colorscale": [
             [
              0,
              "#0d0887"
             ],
             [
              0.1111111111111111,
              "#46039f"
             ],
             [
              0.2222222222222222,
              "#7201a8"
             ],
             [
              0.3333333333333333,
              "#9c179e"
             ],
             [
              0.4444444444444444,
              "#bd3786"
             ],
             [
              0.5555555555555556,
              "#d8576b"
             ],
             [
              0.6666666666666666,
              "#ed7953"
             ],
             [
              0.7777777777777778,
              "#fb9f3a"
             ],
             [
              0.8888888888888888,
              "#fdca26"
             ],
             [
              1,
              "#f0f921"
             ]
            ],
            "type": "surface"
           }
          ],
          "table": [
           {
            "cells": {
             "fill": {
              "color": "#EBF0F8"
             },
             "line": {
              "color": "white"
             }
            },
            "header": {
             "fill": {
              "color": "#C8D4E3"
             },
             "line": {
              "color": "white"
             }
            },
            "type": "table"
           }
          ]
         },
         "layout": {
          "annotationdefaults": {
           "arrowcolor": "#2a3f5f",
           "arrowhead": 0,
           "arrowwidth": 1
          },
          "autotypenumbers": "strict",
          "coloraxis": {
           "colorbar": {
            "outlinewidth": 0,
            "ticks": ""
           }
          },
          "colorscale": {
           "diverging": [
            [
             0,
             "#8e0152"
            ],
            [
             0.1,
             "#c51b7d"
            ],
            [
             0.2,
             "#de77ae"
            ],
            [
             0.3,
             "#f1b6da"
            ],
            [
             0.4,
             "#fde0ef"
            ],
            [
             0.5,
             "#f7f7f7"
            ],
            [
             0.6,
             "#e6f5d0"
            ],
            [
             0.7,
             "#b8e186"
            ],
            [
             0.8,
             "#7fbc41"
            ],
            [
             0.9,
             "#4d9221"
            ],
            [
             1,
             "#276419"
            ]
           ],
           "sequential": [
            [
             0,
             "#0d0887"
            ],
            [
             0.1111111111111111,
             "#46039f"
            ],
            [
             0.2222222222222222,
             "#7201a8"
            ],
            [
             0.3333333333333333,
             "#9c179e"
            ],
            [
             0.4444444444444444,
             "#bd3786"
            ],
            [
             0.5555555555555556,
             "#d8576b"
            ],
            [
             0.6666666666666666,
             "#ed7953"
            ],
            [
             0.7777777777777778,
             "#fb9f3a"
            ],
            [
             0.8888888888888888,
             "#fdca26"
            ],
            [
             1,
             "#f0f921"
            ]
           ],
           "sequentialminus": [
            [
             0,
             "#0d0887"
            ],
            [
             0.1111111111111111,
             "#46039f"
            ],
            [
             0.2222222222222222,
             "#7201a8"
            ],
            [
             0.3333333333333333,
             "#9c179e"
            ],
            [
             0.4444444444444444,
             "#bd3786"
            ],
            [
             0.5555555555555556,
             "#d8576b"
            ],
            [
             0.6666666666666666,
             "#ed7953"
            ],
            [
             0.7777777777777778,
             "#fb9f3a"
            ],
            [
             0.8888888888888888,
             "#fdca26"
            ],
            [
             1,
             "#f0f921"
            ]
           ]
          },
          "colorway": [
           "#636efa",
           "#EF553B",
           "#00cc96",
           "#ab63fa",
           "#FFA15A",
           "#19d3f3",
           "#FF6692",
           "#B6E880",
           "#FF97FF",
           "#FECB52"
          ],
          "font": {
           "color": "#2a3f5f"
          },
          "geo": {
           "bgcolor": "white",
           "lakecolor": "white",
           "landcolor": "#E5ECF6",
           "showlakes": true,
           "showland": true,
           "subunitcolor": "white"
          },
          "hoverlabel": {
           "align": "left"
          },
          "hovermode": "closest",
          "mapbox": {
           "style": "light"
          },
          "paper_bgcolor": "white",
          "plot_bgcolor": "#E5ECF6",
          "polar": {
           "angularaxis": {
            "gridcolor": "white",
            "linecolor": "white",
            "ticks": ""
           },
           "bgcolor": "#E5ECF6",
           "radialaxis": {
            "gridcolor": "white",
            "linecolor": "white",
            "ticks": ""
           }
          },
          "scene": {
           "xaxis": {
            "backgroundcolor": "#E5ECF6",
            "gridcolor": "white",
            "gridwidth": 2,
            "linecolor": "white",
            "showbackground": true,
            "ticks": "",
            "zerolinecolor": "white"
           },
           "yaxis": {
            "backgroundcolor": "#E5ECF6",
            "gridcolor": "white",
            "gridwidth": 2,
            "linecolor": "white",
            "showbackground": true,
            "ticks": "",
            "zerolinecolor": "white"
           },
           "zaxis": {
            "backgroundcolor": "#E5ECF6",
            "gridcolor": "white",
            "gridwidth": 2,
            "linecolor": "white",
            "showbackground": true,
            "ticks": "",
            "zerolinecolor": "white"
           }
          },
          "shapedefaults": {
           "line": {
            "color": "#2a3f5f"
           }
          },
          "ternary": {
           "aaxis": {
            "gridcolor": "white",
            "linecolor": "white",
            "ticks": ""
           },
           "baxis": {
            "gridcolor": "white",
            "linecolor": "white",
            "ticks": ""
           },
           "bgcolor": "#E5ECF6",
           "caxis": {
            "gridcolor": "white",
            "linecolor": "white",
            "ticks": ""
           }
          },
          "title": {
           "x": 0.05
          },
          "xaxis": {
           "automargin": true,
           "gridcolor": "white",
           "linecolor": "white",
           "ticks": "",
           "title": {
            "standoff": 15
           },
           "zerolinecolor": "white",
           "zerolinewidth": 2
          },
          "yaxis": {
           "automargin": true,
           "gridcolor": "white",
           "linecolor": "white",
           "ticks": "",
           "title": {
            "standoff": 15
           },
           "zerolinecolor": "white",
           "zerolinewidth": 2
          }
         }
        }
       }
      },
      "text/html": [
       "<div>                            <div id=\"c34b3f3d-9cb2-4916-b198-07ebf2335162\" class=\"plotly-graph-div\" style=\"height:525px; width:100%;\"></div>            <script type=\"text/javascript\">                require([\"plotly\"], function(Plotly) {                    window.PLOTLYENV=window.PLOTLYENV || {};                                    if (document.getElementById(\"c34b3f3d-9cb2-4916-b198-07ebf2335162\")) {                    Plotly.newPlot(                        \"c34b3f3d-9cb2-4916-b198-07ebf2335162\",                        [{\"colorbar\": {\"title\": {\"text\": \"Count\"}}, \"colorscale\": [[0.0, \"rgb(255,247,251)\"], [0.125, \"rgb(236,231,242)\"], [0.25, \"rgb(208,209,230)\"], [0.375, \"rgb(166,189,219)\"], [0.5, \"rgb(116,169,207)\"], [0.625, \"rgb(54,144,192)\"], [0.75, \"rgb(5,112,176)\"], [0.875, \"rgb(4,90,141)\"], [1.0, \"rgb(2,56,88)\"]], \"locationmode\": \"USA-states\", \"locations\": [\"FL\", \"TX\", \"CA\", \"HI\", \"AK\", \"VI\", \"NM\"], \"text\": [\"Florida\", \"Texas\", \"California\", \"Hawaii\", \"Alaska\", \"Virginia\"], \"type\": \"choropleth\", \"z\": [3, 454, 834, 1, 9, 4, 13, 31]}],                        {\"geo\": {\"scope\": \"usa\"}, \"template\": {\"data\": {\"bar\": [{\"error_x\": {\"color\": \"#2a3f5f\"}, \"error_y\": {\"color\": \"#2a3f5f\"}, \"marker\": {\"line\": {\"color\": \"#E5ECF6\", \"width\": 0.5}}, \"type\": \"bar\"}], \"barpolar\": [{\"marker\": {\"line\": {\"color\": \"#E5ECF6\", \"width\": 0.5}}, \"type\": \"barpolar\"}], \"carpet\": [{\"aaxis\": {\"endlinecolor\": \"#2a3f5f\", \"gridcolor\": \"white\", \"linecolor\": \"white\", \"minorgridcolor\": \"white\", \"startlinecolor\": \"#2a3f5f\"}, \"baxis\": {\"endlinecolor\": \"#2a3f5f\", \"gridcolor\": \"white\", \"linecolor\": \"white\", \"minorgridcolor\": \"white\", \"startlinecolor\": \"#2a3f5f\"}, \"type\": \"carpet\"}], \"choropleth\": [{\"colorbar\": {\"outlinewidth\": 0, \"ticks\": \"\"}, \"type\": \"choropleth\"}], \"contour\": [{\"colorbar\": {\"outlinewidth\": 0, \"ticks\": \"\"}, \"colorscale\": [[0.0, \"#0d0887\"], [0.1111111111111111, \"#46039f\"], [0.2222222222222222, \"#7201a8\"], [0.3333333333333333, \"#9c179e\"], [0.4444444444444444, \"#bd3786\"], [0.5555555555555556, \"#d8576b\"], [0.6666666666666666, \"#ed7953\"], [0.7777777777777778, \"#fb9f3a\"], [0.8888888888888888, \"#fdca26\"], [1.0, \"#f0f921\"]], \"type\": \"contour\"}], \"contourcarpet\": [{\"colorbar\": {\"outlinewidth\": 0, \"ticks\": \"\"}, \"type\": \"contourcarpet\"}], \"heatmap\": [{\"colorbar\": {\"outlinewidth\": 0, \"ticks\": \"\"}, \"colorscale\": [[0.0, \"#0d0887\"], [0.1111111111111111, \"#46039f\"], [0.2222222222222222, \"#7201a8\"], [0.3333333333333333, \"#9c179e\"], [0.4444444444444444, \"#bd3786\"], [0.5555555555555556, \"#d8576b\"], [0.6666666666666666, \"#ed7953\"], [0.7777777777777778, \"#fb9f3a\"], [0.8888888888888888, \"#fdca26\"], [1.0, \"#f0f921\"]], \"type\": \"heatmap\"}], \"heatmapgl\": [{\"colorbar\": {\"outlinewidth\": 0, \"ticks\": \"\"}, \"colorscale\": [[0.0, \"#0d0887\"], [0.1111111111111111, \"#46039f\"], [0.2222222222222222, \"#7201a8\"], [0.3333333333333333, \"#9c179e\"], [0.4444444444444444, \"#bd3786\"], [0.5555555555555556, \"#d8576b\"], [0.6666666666666666, \"#ed7953\"], [0.7777777777777778, \"#fb9f3a\"], [0.8888888888888888, \"#fdca26\"], [1.0, \"#f0f921\"]], \"type\": \"heatmapgl\"}], \"histogram\": [{\"marker\": {\"colorbar\": {\"outlinewidth\": 0, \"ticks\": \"\"}}, \"type\": \"histogram\"}], \"histogram2d\": [{\"colorbar\": {\"outlinewidth\": 0, \"ticks\": \"\"}, \"colorscale\": [[0.0, \"#0d0887\"], [0.1111111111111111, \"#46039f\"], [0.2222222222222222, \"#7201a8\"], [0.3333333333333333, \"#9c179e\"], [0.4444444444444444, \"#bd3786\"], [0.5555555555555556, \"#d8576b\"], [0.6666666666666666, \"#ed7953\"], [0.7777777777777778, \"#fb9f3a\"], [0.8888888888888888, \"#fdca26\"], [1.0, \"#f0f921\"]], \"type\": \"histogram2d\"}], \"histogram2dcontour\": [{\"colorbar\": {\"outlinewidth\": 0, \"ticks\": \"\"}, \"colorscale\": [[0.0, \"#0d0887\"], [0.1111111111111111, \"#46039f\"], [0.2222222222222222, \"#7201a8\"], [0.3333333333333333, \"#9c179e\"], [0.4444444444444444, \"#bd3786\"], [0.5555555555555556, \"#d8576b\"], [0.6666666666666666, \"#ed7953\"], [0.7777777777777778, \"#fb9f3a\"], [0.8888888888888888, \"#fdca26\"], [1.0, \"#f0f921\"]], \"type\": \"histogram2dcontour\"}], \"mesh3d\": [{\"colorbar\": {\"outlinewidth\": 0, \"ticks\": \"\"}, \"type\": \"mesh3d\"}], \"parcoords\": [{\"line\": {\"colorbar\": {\"outlinewidth\": 0, \"ticks\": \"\"}}, \"type\": \"parcoords\"}], \"pie\": [{\"automargin\": true, \"type\": \"pie\"}], \"scatter\": [{\"marker\": {\"colorbar\": {\"outlinewidth\": 0, \"ticks\": \"\"}}, \"type\": \"scatter\"}], \"scatter3d\": [{\"line\": {\"colorbar\": {\"outlinewidth\": 0, \"ticks\": \"\"}}, \"marker\": {\"colorbar\": {\"outlinewidth\": 0, \"ticks\": \"\"}}, \"type\": \"scatter3d\"}], \"scattercarpet\": [{\"marker\": {\"colorbar\": {\"outlinewidth\": 0, \"ticks\": \"\"}}, \"type\": \"scattercarpet\"}], \"scattergeo\": [{\"marker\": {\"colorbar\": {\"outlinewidth\": 0, \"ticks\": \"\"}}, \"type\": \"scattergeo\"}], \"scattergl\": [{\"marker\": {\"colorbar\": {\"outlinewidth\": 0, \"ticks\": \"\"}}, \"type\": \"scattergl\"}], \"scattermapbox\": [{\"marker\": {\"colorbar\": {\"outlinewidth\": 0, \"ticks\": \"\"}}, \"type\": \"scattermapbox\"}], \"scatterpolar\": [{\"marker\": {\"colorbar\": {\"outlinewidth\": 0, \"ticks\": \"\"}}, \"type\": \"scatterpolar\"}], \"scatterpolargl\": [{\"marker\": {\"colorbar\": {\"outlinewidth\": 0, \"ticks\": \"\"}}, \"type\": \"scatterpolargl\"}], \"scatterternary\": [{\"marker\": {\"colorbar\": {\"outlinewidth\": 0, \"ticks\": \"\"}}, \"type\": \"scatterternary\"}], \"surface\": [{\"colorbar\": {\"outlinewidth\": 0, \"ticks\": \"\"}, \"colorscale\": [[0.0, \"#0d0887\"], [0.1111111111111111, \"#46039f\"], [0.2222222222222222, \"#7201a8\"], [0.3333333333333333, \"#9c179e\"], [0.4444444444444444, \"#bd3786\"], [0.5555555555555556, \"#d8576b\"], [0.6666666666666666, \"#ed7953\"], [0.7777777777777778, \"#fb9f3a\"], [0.8888888888888888, \"#fdca26\"], [1.0, \"#f0f921\"]], \"type\": \"surface\"}], \"table\": [{\"cells\": {\"fill\": {\"color\": \"#EBF0F8\"}, \"line\": {\"color\": \"white\"}}, \"header\": {\"fill\": {\"color\": \"#C8D4E3\"}, \"line\": {\"color\": \"white\"}}, \"type\": \"table\"}]}, \"layout\": {\"annotationdefaults\": {\"arrowcolor\": \"#2a3f5f\", \"arrowhead\": 0, \"arrowwidth\": 1}, \"autotypenumbers\": \"strict\", \"coloraxis\": {\"colorbar\": {\"outlinewidth\": 0, \"ticks\": \"\"}}, \"colorscale\": {\"diverging\": [[0, \"#8e0152\"], [0.1, \"#c51b7d\"], [0.2, \"#de77ae\"], [0.3, \"#f1b6da\"], [0.4, \"#fde0ef\"], [0.5, \"#f7f7f7\"], [0.6, \"#e6f5d0\"], [0.7, \"#b8e186\"], [0.8, \"#7fbc41\"], [0.9, \"#4d9221\"], [1, \"#276419\"]], \"sequential\": [[0.0, \"#0d0887\"], [0.1111111111111111, \"#46039f\"], [0.2222222222222222, \"#7201a8\"], [0.3333333333333333, \"#9c179e\"], [0.4444444444444444, \"#bd3786\"], [0.5555555555555556, \"#d8576b\"], [0.6666666666666666, \"#ed7953\"], [0.7777777777777778, \"#fb9f3a\"], [0.8888888888888888, \"#fdca26\"], [1.0, \"#f0f921\"]], \"sequentialminus\": [[0.0, \"#0d0887\"], [0.1111111111111111, \"#46039f\"], [0.2222222222222222, \"#7201a8\"], [0.3333333333333333, \"#9c179e\"], [0.4444444444444444, \"#bd3786\"], [0.5555555555555556, \"#d8576b\"], [0.6666666666666666, \"#ed7953\"], [0.7777777777777778, \"#fb9f3a\"], [0.8888888888888888, \"#fdca26\"], [1.0, \"#f0f921\"]]}, \"colorway\": [\"#636efa\", \"#EF553B\", \"#00cc96\", \"#ab63fa\", \"#FFA15A\", \"#19d3f3\", \"#FF6692\", \"#B6E880\", \"#FF97FF\", \"#FECB52\"], \"font\": {\"color\": \"#2a3f5f\"}, \"geo\": {\"bgcolor\": \"white\", \"lakecolor\": \"white\", \"landcolor\": \"#E5ECF6\", \"showlakes\": true, \"showland\": true, \"subunitcolor\": \"white\"}, \"hoverlabel\": {\"align\": \"left\"}, \"hovermode\": \"closest\", \"mapbox\": {\"style\": \"light\"}, \"paper_bgcolor\": \"white\", \"plot_bgcolor\": \"#E5ECF6\", \"polar\": {\"angularaxis\": {\"gridcolor\": \"white\", \"linecolor\": \"white\", \"ticks\": \"\"}, \"bgcolor\": \"#E5ECF6\", \"radialaxis\": {\"gridcolor\": \"white\", \"linecolor\": \"white\", \"ticks\": \"\"}}, \"scene\": {\"xaxis\": {\"backgroundcolor\": \"#E5ECF6\", \"gridcolor\": \"white\", \"gridwidth\": 2, \"linecolor\": \"white\", \"showbackground\": true, \"ticks\": \"\", \"zerolinecolor\": \"white\"}, \"yaxis\": {\"backgroundcolor\": \"#E5ECF6\", \"gridcolor\": \"white\", \"gridwidth\": 2, \"linecolor\": \"white\", \"showbackground\": true, \"ticks\": \"\", \"zerolinecolor\": \"white\"}, \"zaxis\": {\"backgroundcolor\": \"#E5ECF6\", \"gridcolor\": \"white\", \"gridwidth\": 2, \"linecolor\": \"white\", \"showbackground\": true, \"ticks\": \"\", \"zerolinecolor\": \"white\"}}, \"shapedefaults\": {\"line\": {\"color\": \"#2a3f5f\"}}, \"ternary\": {\"aaxis\": {\"gridcolor\": \"white\", \"linecolor\": \"white\", \"ticks\": \"\"}, \"baxis\": {\"gridcolor\": \"white\", \"linecolor\": \"white\", \"ticks\": \"\"}, \"bgcolor\": \"#E5ECF6\", \"caxis\": {\"gridcolor\": \"white\", \"linecolor\": \"white\", \"ticks\": \"\"}}, \"title\": {\"x\": 0.05}, \"xaxis\": {\"automargin\": true, \"gridcolor\": \"white\", \"linecolor\": \"white\", \"ticks\": \"\", \"title\": {\"standoff\": 15}, \"zerolinecolor\": \"white\", \"zerolinewidth\": 2}, \"yaxis\": {\"automargin\": true, \"gridcolor\": \"white\", \"linecolor\": \"white\", \"ticks\": \"\", \"title\": {\"standoff\": 15}, \"zerolinecolor\": \"white\", \"zerolinewidth\": 2}}}},                        {\"responsive\": true}                    ).then(function(){\n",
       "                            \n",
       "var gd = document.getElementById('c34b3f3d-9cb2-4916-b198-07ebf2335162');\n",
       "var x = new MutationObserver(function (mutations, observer) {{\n",
       "        var display = window.getComputedStyle(gd).display;\n",
       "        if (!display || display === 'none') {{\n",
       "            console.log([gd, 'removed!']);\n",
       "            Plotly.purge(gd);\n",
       "            observer.disconnect();\n",
       "        }}\n",
       "}});\n",
       "\n",
       "// Listen for the removal of the full notebook cells\n",
       "var notebookContainer = gd.closest('#notebook-container');\n",
       "if (notebookContainer) {{\n",
       "    x.observe(notebookContainer, {childList: true});\n",
       "}}\n",
       "\n",
       "// Listen for the clearing of the current output cell\n",
       "var outputEl = gd.closest('.output');\n",
       "if (outputEl) {{\n",
       "    x.observe(outputEl, {childList: true});\n",
       "}}\n",
       "\n",
       "                        })                };                });            </script>        </div>"
      ]
     },
     "metadata": {},
     "output_type": "display_data"
    }
   ],
   "source": [
    "# generate map plot\n",
    "data = dict(type = 'choropleth',\n",
    "            locations = ['FL', 'TX', 'CA', 'HI', 'AK', 'VI', 'NM'],\n",
    "            locationmode = 'USA-states',\n",
    "            colorscale= 'PuBu',\n",
    "            text= ['Florida', 'Texas', 'California', 'Hawaii', 'Alaska', 'Virginia'],\n",
    "            z = usa_sm.groupby('USA State')['USA State'].count(),\n",
    "            colorbar = {'title':'Count'})\n",
    "\n",
    "layout = dict(geo = {'scope':'usa'})\n",
    "\n",
    "choromap = go.Figure(data = [data],layout = layout)\n",
    "\n",
    "iplot(choromap)"
   ]
  },
  {
   "cell_type": "code",
   "execution_count": 144,
   "metadata": {},
   "outputs": [
    {
     "data": {
      "text/plain": [
       "USA State\n",
       "Alaska                3\n",
       "California          454\n",
       "Florida             834\n",
       "Hawaii                1\n",
       "Marshall Islands      9\n",
       "New Mexico            4\n",
       "Texas                13\n",
       "Virginia             31\n",
       "Name: USA State, dtype: int64"
      ]
     },
     "execution_count": 144,
     "metadata": {},
     "output_type": "execute_result"
    }
   ],
   "source": [
    "usa_sm.groupby('USA State')['USA State'].count()"
   ]
  },
  {
   "cell_type": "markdown",
   "metadata": {},
   "source": [
    "## Analysis on Datum"
   ]
  },
  {
   "cell_type": "code",
   "execution_count": 145,
   "metadata": {},
   "outputs": [],
   "source": [
    "sm['Datum'] = pd.to_datetime(sm['Datum'])"
   ]
  },
  {
   "cell_type": "code",
   "execution_count": 146,
   "metadata": {},
   "outputs": [],
   "source": [
    "sm['Hour'] = sm['Datum'].apply(lambda t: t.hour)\n",
    "sm['Month'] = sm['Datum'].apply(lambda t: t.month)\n",
    "sm['Year'] = sm['Datum'].apply(lambda t: t.year)"
   ]
  },
  {
   "cell_type": "code",
   "execution_count": 147,
   "metadata": {},
   "outputs": [
    {
     "data": {
      "text/plain": [
       "Year\n",
       "1971    119\n",
       "2018    117\n",
       "1977    114\n",
       "1975    113\n",
       "1976    113\n",
       "2019    109\n",
       "1970    107\n",
       "1967    106\n",
       "1973    103\n",
       "1968    103\n",
       "1969    103\n",
       "1966    101\n",
       "1972     99\n",
       "1974     98\n",
       "1978     97\n",
       "2017     92\n",
       "2016     90\n",
       "1965     87\n",
       "1962     82\n",
       "1990     80\n",
       "Name: Year, dtype: int64"
      ]
     },
     "execution_count": 147,
     "metadata": {},
     "output_type": "execute_result"
    }
   ],
   "source": [
    "# what year had the most space missions - top 20?\n",
    "sm.groupby('Year')['Year'].count().sort_values(ascending = False).head(20)"
   ]
  },
  {
   "cell_type": "code",
   "execution_count": 148,
   "metadata": {},
   "outputs": [
    {
     "data": {
      "image/png": "[encoded data removed]",
      "text/plain": [
       "<Figure size 750x375 with 1 Axes>"
      ]
     },
     "metadata": {
      "needs_background": "light"
     },
     "output_type": "display_data"
    }
   ],
   "source": [
    "plt.figure(figsize = (10, 5), dpi = 75)\n",
    "sm.groupby('Year')['Year'].count().sort_values(ascending = False).head(20).plot(kind = 'bar', color = '#a7bbc7')\n",
    "plt.xticks(rotation = 360)\n",
    "plt.ylabel('Count')\n",
    "plt.title('Years Since 1957 With Most Space Missions (Top 20)')\n",
    "plt.tight_layout()"
   ]
  },
  {
   "cell_type": "code",
   "execution_count": 149,
   "metadata": {},
   "outputs": [],
   "source": [
    "# what month/year had the most space missions?\n",
    "\n",
    "# creating a dictionary for month and mapping it onto the month column\n",
    "dmonth = {1: 'Jan', 2: 'Feb', 3: 'Mar', 4: 'Apr', 5: 'May', 6: 'Jun', 7:'Jul',\n",
    "         8:'Aug', 9:'Sep', 10:'Oct',11:'Nov', 12:'Dec'}\n",
    "\n",
    "sm ['Month'] = sm['Month'].map(dmonth)"
   ]
  },
  {
   "cell_type": "code",
   "execution_count": 150,
   "metadata": {},
   "outputs": [],
   "source": [
    "# creating a new column\n",
    "sm ['MonthYear'] = sm['Month'].astype(str) + \" \" +sm['Year'].astype(str)"
   ]
  },
  {
   "cell_type": "code",
   "execution_count": 151,
   "metadata": {},
   "outputs": [
    {
     "data": {
      "text/plain": [
       "MonthYear\n",
       "Dec 1971    18\n",
       "Sep 1977    16\n",
       "Sep 1975    16\n",
       "Dec 2019    16\n",
       "Apr 1968    16\n",
       "Oct 1970    15\n",
       "Apr 1975    15\n",
       "Dec 2018    15\n",
       "Jul 1976    15\n",
       "Dec 1977    14\n",
       "May 1971    14\n",
       "Dec 1978    14\n",
       "Jul 2020    14\n",
       "Mar 1969    14\n",
       "Jun 1970    13\n",
       "Jun 2017    13\n",
       "Oct 1985    13\n",
       "Oct 1973    13\n",
       "Dec 1970    13\n",
       "Oct 1967    13\n",
       "Name: MonthYear, dtype: int64"
      ]
     },
     "execution_count": 151,
     "metadata": {},
     "output_type": "execute_result"
    }
   ],
   "source": [
    "sm.groupby('MonthYear')['MonthYear'].count().sort_values(ascending = False).head(20)"
   ]
  },
  {
   "cell_type": "code",
   "execution_count": 152,
   "metadata": {},
   "outputs": [
    {
     "data": {
      "image/png": "[encoded data removed]",
      "text/plain": [
       "<Figure size 2000x1000 with 1 Axes>"
      ]
     },
     "metadata": {
      "needs_background": "light"
     },
     "output_type": "display_data"
    }
   ],
   "source": [
    "plt.figure(figsize = (20, 10), dpi = 100)\n",
    "sm.groupby('MonthYear')['MonthYear'].count().sort_values(ascending = False).head(20).plot(kind = 'bar', color = '#a7bbc7')\n",
    "plt.xticks(rotation = 360)\n",
    "plt.xlabel('Date (Month Year)')\n",
    "plt.ylabel('Count')\n",
    "plt.title('Month and Year With Most Space Missions Launched (Top 10)')\n",
    "plt.tight_layout()"
   ]
  },
  {
   "cell_type": "markdown",
   "metadata": {},
   "source": [
    "## Analysis on Rocket (Cost of Mission)"
   ]
  },
  {
   "cell_type": "code",
   "execution_count": 199,
   "metadata": {},
   "outputs": [],
   "source": [
    "sm['Cost of Mission'] = sm[' Rocket']"
   ]
  },
  {
   "cell_type": "code",
   "execution_count": 200,
   "metadata": {},
   "outputs": [],
   "source": [
    "sm.drop(' Rocket', inplace = True, axis = 1)"
   ]
  },
  {
   "cell_type": "code",
   "execution_count": 204,
   "metadata": {},
   "outputs": [],
   "source": [
    "sm.loc[sm['Cost of Mission'] == '5,000.0 ', 'Cost of Mission'] = 5000.0\n",
    "sm.loc[sm['Cost of Mission'] == '1,160.0 ', 'Cost of Mission'] = 1160.0"
   ]
  },
  {
   "cell_type": "code",
   "execution_count": 205,
   "metadata": {},
   "outputs": [],
   "source": [
    "sm['Cost of Mission'] = pd.to_numeric(sm['Cost of Mission'])"
   ]
  },
  {
   "cell_type": "code",
   "execution_count": 212,
   "metadata": {},
   "outputs": [
    {
     "data": {
      "text/plain": [
       "Company Name\n",
       "RVSN USSR          5000.00\n",
       "NASA                511.95\n",
       "Boeing              177.29\n",
       "Arianespace         170.26\n",
       "ULA                 151.00\n",
       "ILS                 101.54\n",
       "MHI                  95.47\n",
       "Martin Marietta      80.16\n",
       "US Air Force         59.65\n",
       "JAXA                 56.00\n",
       "SpaceX               54.99\n",
       "Roscosmos            51.63\n",
       "Northrop             47.35\n",
       "VKS RF               46.94\n",
       "Eurockot             41.80\n",
       "CASC                 40.13\n",
       "ESA                  37.00\n",
       "Lockheed             35.00\n",
       "ISRO                 32.49\n",
       "Kosmotras            29.00\n",
       "ExPace               28.30\n",
       "EER                  20.00\n",
       "Sandia               15.00\n",
       "Virgin Orbit         12.00\n",
       "Rocket Lab            7.50\n",
       "Name: Cost of Mission, dtype: float64"
      ]
     },
     "execution_count": 212,
     "metadata": {},
     "output_type": "execute_result"
    }
   ],
   "source": [
    "sm.groupby('Company Name').mean()['Cost of Mission'].dropna().sort_values(ascending = False).round(2)"
   ]
  },
  {
   "cell_type": "code",
   "execution_count": 237,
   "metadata": {},
   "outputs": [
    {
     "data": {
      "image/png": "[encoded data removed]",
      "text/plain": [
       "<Figure size 1500x750 with 1 Axes>"
      ]
     },
     "metadata": {
      "needs_background": "light"
     },
     "output_type": "display_data"
    }
   ],
   "source": [
    "plt.figure(figsize = (20, 10), dpi = 75)\n",
    "sm.groupby('Company Name').mean()['Cost of Mission'].dropna().sort_values(ascending = False).round(2).plot(kind = 'bar', \n",
    "                                                                                                           color = '#a7bbc7')\n",
    "plt.title('Average Cost of Mission (in millions USD) by Company', size = 22)\n",
    "plt.xlabel('Company', size = 20)\n",
    "plt.ylabel('Avg. Cost of Mission (in millions USD)', size = 20)\n",
    "plt.xticks(size = 18)\n",
    "plt.yticks(size = 16)\n",
    "plt.tight_layout(pad = 2)"
   ]
  },
  {
   "cell_type": "code",
   "execution_count": null,
   "metadata": {},
   "outputs": [],
   "source": []
  },
  {
   "cell_type": "code",
   "execution_count": null,
   "metadata": {},
   "outputs": [],
   "source": []
  }
 ],
 "metadata": {
  "kernelspec": {
   "display_name": "Python 3",
   "language": "python",
   "name": "python3"
  },
  "language_info": {
   "codemirror_mode": {
    "name": "ipython",
    "version": 3
   },
   "file_extension": ".py",
   "mimetype": "text/x-python",
   "name": "python",
   "nbconvert_exporter": "python",
   "pygments_lexer": "ipython3",
   "version": "3.8.5"
  }
 },
 "nbformat": 4,
 "nbformat_minor": 4
}
